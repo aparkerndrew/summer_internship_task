{
  "nbformat": 4,
  "nbformat_minor": 0,
  "metadata": {
    "colab": {
      "name": "Python Problem.ipynb",
      "version": "0.3.2",
      "provenance": [],
      "collapsed_sections": []
    },
    "kernelspec": {
      "name": "python3",
      "display_name": "Python 3"
    },
    "accelerator": "GPU"
  },
  "cells": [
    {
      "metadata": {
        "id": "Bz00TVzXL9nc",
        "colab_type": "text"
      },
      "cell_type": "markdown",
      "source": [
        "# MIDASS@IIITD Summer Internship Task"
      ]
    },
    {
      "metadata": {
        "id": "j8NyjvsEMD9N",
        "colab_type": "text"
      },
      "cell_type": "markdown",
      "source": [
        "## Python Problem"
      ]
    },
    {
      "metadata": {
        "id": "LBXDQb30vp3Z",
        "colab_type": "text"
      },
      "cell_type": "markdown",
      "source": [
        "***Note***: Entire work has been done on [Google Colaboratory](https://colab.research.google.com/drive/19v50ZRM7wwj1ikRAWPnYJN4tXRXtGIvf)."
      ]
    },
    {
      "metadata": {
        "id": "l-GxbFvPMFnG",
        "colab_type": "text"
      },
      "cell_type": "markdown",
      "source": [
        "***Part I : Python Script composed of fetching all the tweets by midas@IIITD twitter handle and dump responses into JSONlines file.***"
      ]
    },
    {
      "metadata": {
        "id": "r0OjiJlUMiwP",
        "colab_type": "text"
      },
      "cell_type": "markdown",
      "source": [
        "***Introduction*** : The process of fetching tweets from Twitter consists of using an API to mine data through a social media handle. We will be using ***Tweepy*** because of it's ***ease to use***, ***simplicity***,  and ***availability***.\n",
        "\n",
        "To do that we need ***consumer key***, ***consumer secret***, ***access key*** and ***access secret*** which can be obtained through [twitter developer section](https://developer.twitter.com/en/apps) by registering your app."
      ]
    },
    {
      "metadata": {
        "id": "518DvMaAhfwa",
        "colab_type": "text"
      },
      "cell_type": "markdown",
      "source": [
        "This will help us to access tweets from any twitter user"
      ]
    },
    {
      "metadata": {
        "id": "KWhsCftC9-Kl",
        "colab_type": "code",
        "colab": {}
      },
      "cell_type": "code",
      "source": [
        "#importing tweepy library\n",
        "import tweepy\n",
        "\n",
        "# Fill the X's with the credentials obtained by above mentioned procedure. \n",
        "consumer_key = \"XXXXXXXXXX\" \n",
        "consumer_secret = \"XXXXXXXXX\"\n",
        "access_key = \"XXXXXXXXXXXXXXX\"\n",
        "access_secret = \"XXXXXXXXXX\"\n",
        "#twitter handle\n",
        "username = \"midasIIITD\"\n",
        "\n",
        "\n",
        "# Authorization to consumer key and consumer secret \n",
        "auth = tweepy.OAuthHandler(consumer_key, consumer_secret) \n",
        "\n",
        "# Access to user's access key and access secret \n",
        "auth.set_access_token(access_key, access_secret) \n",
        "\n",
        "# Calling api \n",
        "api = tweepy.API(auth) "
      ],
      "execution_count": 0,
      "outputs": []
    },
    {
      "metadata": {
        "id": "ztYUsHDo9-ts",
        "colab_type": "text"
      },
      "cell_type": "markdown",
      "source": [
        "Twitter allows maximum of ***200*** tweets for extraction. Hence, we will be extracting tweets from midas@IIITD by using own ***timeline***"
      ]
    },
    {
      "metadata": {
        "id": "7DVIB2U6-B9c",
        "colab_type": "code",
        "colab": {}
      },
      "cell_type": "code",
      "source": [
        "#maximum number of tweets to be extracted\n",
        "number_of_tweets=200\n",
        "#Using API interface to iterate through username by our own timeline\n",
        "tweets = api.user_timeline(screen_name=username, count=number_of_tweets) "
      ],
      "execution_count": 0,
      "outputs": []
    },
    {
      "metadata": {
        "id": "bddLfsWiU2I6",
        "colab_type": "text"
      },
      "cell_type": "markdown",
      "source": [
        "To dump the responses into JSONlines file. We need to import ***json*** which is a built-in package for encoding and decoding JSON data. "
      ]
    },
    {
      "metadata": {
        "id": "240z9c8xNpzu",
        "colab_type": "code",
        "colab": {}
      },
      "cell_type": "code",
      "source": [
        "import json"
      ],
      "execution_count": 0,
      "outputs": []
    },
    {
      "metadata": {
        "id": "P9-U1rm8VTOJ",
        "colab_type": "text"
      },
      "cell_type": "markdown",
      "source": [
        "The ***J***ava***S***cript ***O***bject ***N***otation was inspired by a subset of the JavaScript programming language dealing with object literal syntax. It's pretty much universal object notation at this point.\n",
        "\n",
        "The JSON response from the Twitter API is available in the attribute _json, which is not the raw JSON string, but a dictionary."
      ]
    },
    {
      "metadata": {
        "id": "VUw3FaM2-GU5",
        "colab_type": "code",
        "colab": {}
      },
      "cell_type": "code",
      "source": [
        "#JSONlines of all our tweets from twitter handle \n",
        "midas_tweets = [tweet._json for tweet in tweets]"
      ],
      "execution_count": 0,
      "outputs": []
    },
    {
      "metadata": {
        "id": "sieoqsgj-HWL",
        "colab_type": "text"
      },
      "cell_type": "markdown",
      "source": [
        "\n",
        "\n",
        "\n",
        "\n",
        "***The process of encoding JSON is usually called serialization and it refers to the transformation of data into a series of byte to be stored or transmitted across a network.***\n",
        "\n",
        "Hence, we can create a file using python's context manager and open it in write mode. eg., data_file.json; to store all the data from twitter handle\n",
        "\n",
        "This file will further used for extraction of information from tweets"
      ]
    },
    {
      "metadata": {
        "id": "o35CtGub-sK9",
        "colab_type": "code",
        "colab": {}
      },
      "cell_type": "code",
      "source": [
        "#responses.json to dump all the responses into JSONlines file\n",
        "with open(\"responses.json\", \"w\") as write_file:\n",
        "    json.dump(midas_tweets, write_file)"
      ],
      "execution_count": 0,
      "outputs": []
    },
    {
      "metadata": {
        "id": "FPEaRNZT-Vs1",
        "colab_type": "text"
      },
      "cell_type": "markdown",
      "source": [
        "***Part II : parse these JSONlines files to display following information:***\n",
        "\n",
        "\n",
        "*   The text of the tweet.\n",
        "*   Date and time of the tweet.\n",
        "*   The number of favorites.\n",
        "*   The number of retweets.\n",
        "*   Number of Images present in Tweet.\n",
        "\n",
        "\n"
      ]
    },
    {
      "metadata": {
        "id": "3fZd8SPMXDXF",
        "colab_type": "text"
      },
      "cell_type": "markdown",
      "source": [
        "The parsing of JSONlines file can be done either through ***json.load()*** or using **pandas**. I have use pandas because of ***data analysis tools***. We can directly ***load json file*** in it and then, we can use it to*** express complex series*** both ***multidimensional*** and ***hetrogeneous***."
      ]
    },
    {
      "metadata": {
        "id": "Ij2qAWbmA0Py",
        "colab_type": "code",
        "outputId": "bb1b1144-c4ca-4599-b8fb-b3a5b4bce10a",
        "colab": {
          "base_uri": "https://localhost:8080/",
          "height": 457
        }
      },
      "cell_type": "code",
      "source": [
        "# loading python package\n",
        "import pandas as pd\n",
        "# open existing data file for manipulation in a dataframe\n",
        "df = pd.read_json(\"responses.json\")\n",
        "# display first five rows to take a look at data\n",
        "df.head()"
      ],
      "execution_count": 0,
      "outputs": [
        {
          "output_type": "execute_result",
          "data": {
            "text/html": [
              "<div>\n",
              "<style scoped>\n",
              "    .dataframe tbody tr th:only-of-type {\n",
              "        vertical-align: middle;\n",
              "    }\n",
              "\n",
              "    .dataframe tbody tr th {\n",
              "        vertical-align: top;\n",
              "    }\n",
              "\n",
              "    .dataframe thead th {\n",
              "        text-align: right;\n",
              "    }\n",
              "</style>\n",
              "<table border=\"1\" class=\"dataframe\">\n",
              "  <thead>\n",
              "    <tr style=\"text-align: right;\">\n",
              "      <th></th>\n",
              "      <th>contributors</th>\n",
              "      <th>coordinates</th>\n",
              "      <th>created_at</th>\n",
              "      <th>entities</th>\n",
              "      <th>extended_entities</th>\n",
              "      <th>favorite_count</th>\n",
              "      <th>favorited</th>\n",
              "      <th>geo</th>\n",
              "      <th>id</th>\n",
              "      <th>id_str</th>\n",
              "      <th>...</th>\n",
              "      <th>quoted_status</th>\n",
              "      <th>quoted_status_id</th>\n",
              "      <th>quoted_status_id_str</th>\n",
              "      <th>retweet_count</th>\n",
              "      <th>retweeted</th>\n",
              "      <th>retweeted_status</th>\n",
              "      <th>source</th>\n",
              "      <th>text</th>\n",
              "      <th>truncated</th>\n",
              "      <th>user</th>\n",
              "    </tr>\n",
              "  </thead>\n",
              "  <tbody>\n",
              "    <tr>\n",
              "      <th>0</th>\n",
              "      <td>NaN</td>\n",
              "      <td>NaN</td>\n",
              "      <td>2019-04-08 07:08:12</td>\n",
              "      <td>{'hashtags': [], 'symbols': [], 'user_mentions...</td>\n",
              "      <td>NaN</td>\n",
              "      <td>13</td>\n",
              "      <td>False</td>\n",
              "      <td>NaN</td>\n",
              "      <td>1115149324533542912</td>\n",
              "      <td>1115149324533542912</td>\n",
              "      <td>...</td>\n",
              "      <td>NaN</td>\n",
              "      <td>NaN</td>\n",
              "      <td>NaN</td>\n",
              "      <td>2</td>\n",
              "      <td>False</td>\n",
              "      <td>NaN</td>\n",
              "      <td>&lt;a href=\"http://twitter.com\" rel=\"nofollow\"&gt;Tw...</td>\n",
              "      <td>Many Congratulations to @midasIIITD student, S...</td>\n",
              "      <td>True</td>\n",
              "      <td>{'id': 1021355762575073281, 'id_str': '1021355...</td>\n",
              "    </tr>\n",
              "    <tr>\n",
              "      <th>1</th>\n",
              "      <td>NaN</td>\n",
              "      <td>NaN</td>\n",
              "      <td>2019-04-08 03:27:42</td>\n",
              "      <td>{'hashtags': [], 'symbols': [], 'user_mentions...</td>\n",
              "      <td>NaN</td>\n",
              "      <td>4</td>\n",
              "      <td>False</td>\n",
              "      <td>NaN</td>\n",
              "      <td>1115093836341096449</td>\n",
              "      <td>1115093836341096448</td>\n",
              "      <td>...</td>\n",
              "      <td>NaN</td>\n",
              "      <td>NaN</td>\n",
              "      <td>NaN</td>\n",
              "      <td>0</td>\n",
              "      <td>False</td>\n",
              "      <td>NaN</td>\n",
              "      <td>&lt;a href=\"http://twitter.com\" rel=\"nofollow\"&gt;Tw...</td>\n",
              "      <td>@midasIIITD thanks all students who have appea...</td>\n",
              "      <td>True</td>\n",
              "      <td>{'id': 1021355762575073281, 'id_str': '1021355...</td>\n",
              "    </tr>\n",
              "    <tr>\n",
              "      <th>2</th>\n",
              "      <td>NaN</td>\n",
              "      <td>NaN</td>\n",
              "      <td>2019-04-07 14:17:29</td>\n",
              "      <td>{'hashtags': [], 'symbols': [], 'user_mentions...</td>\n",
              "      <td>NaN</td>\n",
              "      <td>0</td>\n",
              "      <td>False</td>\n",
              "      <td>NaN</td>\n",
              "      <td>1114894970886983680</td>\n",
              "      <td>1114894970886983680</td>\n",
              "      <td>...</td>\n",
              "      <td>NaN</td>\n",
              "      <td>NaN</td>\n",
              "      <td>NaN</td>\n",
              "      <td>0</td>\n",
              "      <td>False</td>\n",
              "      <td>NaN</td>\n",
              "      <td>&lt;a href=\"http://twitter.com\" rel=\"nofollow\"&gt;Tw...</td>\n",
              "      <td>@himanchalchandr Meanwhile, complete CV/NLP ta...</td>\n",
              "      <td>False</td>\n",
              "      <td>{'id': 1021355762575073281, 'id_str': '1021355...</td>\n",
              "    </tr>\n",
              "    <tr>\n",
              "      <th>3</th>\n",
              "      <td>NaN</td>\n",
              "      <td>NaN</td>\n",
              "      <td>2019-04-07 14:17:09</td>\n",
              "      <td>{'hashtags': [], 'symbols': [], 'user_mentions...</td>\n",
              "      <td>NaN</td>\n",
              "      <td>0</td>\n",
              "      <td>False</td>\n",
              "      <td>NaN</td>\n",
              "      <td>1114894886292029440</td>\n",
              "      <td>1114894886292029440</td>\n",
              "      <td>...</td>\n",
              "      <td>NaN</td>\n",
              "      <td>NaN</td>\n",
              "      <td>NaN</td>\n",
              "      <td>0</td>\n",
              "      <td>False</td>\n",
              "      <td>NaN</td>\n",
              "      <td>&lt;a href=\"http://twitter.com\" rel=\"nofollow\"&gt;Tw...</td>\n",
              "      <td>@sayangdipto123 Submit as per the guideline ag...</td>\n",
              "      <td>False</td>\n",
              "      <td>{'id': 1021355762575073281, 'id_str': '1021355...</td>\n",
              "    </tr>\n",
              "    <tr>\n",
              "      <th>4</th>\n",
              "      <td>NaN</td>\n",
              "      <td>NaN</td>\n",
              "      <td>2019-04-07 11:43:24</td>\n",
              "      <td>{'hashtags': [], 'symbols': [], 'user_mentions...</td>\n",
              "      <td>NaN</td>\n",
              "      <td>1</td>\n",
              "      <td>False</td>\n",
              "      <td>NaN</td>\n",
              "      <td>1114856195335106560</td>\n",
              "      <td>1114856195335106560</td>\n",
              "      <td>...</td>\n",
              "      <td>NaN</td>\n",
              "      <td>NaN</td>\n",
              "      <td>NaN</td>\n",
              "      <td>1</td>\n",
              "      <td>False</td>\n",
              "      <td>NaN</td>\n",
              "      <td>&lt;a href=\"http://twitter.com\" rel=\"nofollow\"&gt;Tw...</td>\n",
              "      <td>We request all students whose interview are sc...</td>\n",
              "      <td>True</td>\n",
              "      <td>{'id': 1021355762575073281, 'id_str': '1021355...</td>\n",
              "    </tr>\n",
              "  </tbody>\n",
              "</table>\n",
              "<p>5 rows × 29 columns</p>\n",
              "</div>"
            ],
            "text/plain": [
              "   contributors  coordinates          created_at  \\\n",
              "0           NaN          NaN 2019-04-08 07:08:12   \n",
              "1           NaN          NaN 2019-04-08 03:27:42   \n",
              "2           NaN          NaN 2019-04-07 14:17:29   \n",
              "3           NaN          NaN 2019-04-07 14:17:09   \n",
              "4           NaN          NaN 2019-04-07 11:43:24   \n",
              "\n",
              "                                            entities extended_entities  \\\n",
              "0  {'hashtags': [], 'symbols': [], 'user_mentions...               NaN   \n",
              "1  {'hashtags': [], 'symbols': [], 'user_mentions...               NaN   \n",
              "2  {'hashtags': [], 'symbols': [], 'user_mentions...               NaN   \n",
              "3  {'hashtags': [], 'symbols': [], 'user_mentions...               NaN   \n",
              "4  {'hashtags': [], 'symbols': [], 'user_mentions...               NaN   \n",
              "\n",
              "   favorite_count  favorited  geo                   id               id_str  \\\n",
              "0              13      False  NaN  1115149324533542912  1115149324533542912   \n",
              "1               4      False  NaN  1115093836341096449  1115093836341096448   \n",
              "2               0      False  NaN  1114894970886983680  1114894970886983680   \n",
              "3               0      False  NaN  1114894886292029440  1114894886292029440   \n",
              "4               1      False  NaN  1114856195335106560  1114856195335106560   \n",
              "\n",
              "                         ...                         quoted_status  \\\n",
              "0                        ...                                   NaN   \n",
              "1                        ...                                   NaN   \n",
              "2                        ...                                   NaN   \n",
              "3                        ...                                   NaN   \n",
              "4                        ...                                   NaN   \n",
              "\n",
              "   quoted_status_id  quoted_status_id_str  retweet_count  retweeted  \\\n",
              "0               NaN                   NaN              2      False   \n",
              "1               NaN                   NaN              0      False   \n",
              "2               NaN                   NaN              0      False   \n",
              "3               NaN                   NaN              0      False   \n",
              "4               NaN                   NaN              1      False   \n",
              "\n",
              "   retweeted_status                                             source  \\\n",
              "0               NaN  <a href=\"http://twitter.com\" rel=\"nofollow\">Tw...   \n",
              "1               NaN  <a href=\"http://twitter.com\" rel=\"nofollow\">Tw...   \n",
              "2               NaN  <a href=\"http://twitter.com\" rel=\"nofollow\">Tw...   \n",
              "3               NaN  <a href=\"http://twitter.com\" rel=\"nofollow\">Tw...   \n",
              "4               NaN  <a href=\"http://twitter.com\" rel=\"nofollow\">Tw...   \n",
              "\n",
              "                                                text  truncated  \\\n",
              "0  Many Congratulations to @midasIIITD student, S...       True   \n",
              "1  @midasIIITD thanks all students who have appea...       True   \n",
              "2  @himanchalchandr Meanwhile, complete CV/NLP ta...      False   \n",
              "3  @sayangdipto123 Submit as per the guideline ag...      False   \n",
              "4  We request all students whose interview are sc...       True   \n",
              "\n",
              "                                                user  \n",
              "0  {'id': 1021355762575073281, 'id_str': '1021355...  \n",
              "1  {'id': 1021355762575073281, 'id_str': '1021355...  \n",
              "2  {'id': 1021355762575073281, 'id_str': '1021355...  \n",
              "3  {'id': 1021355762575073281, 'id_str': '1021355...  \n",
              "4  {'id': 1021355762575073281, 'id_str': '1021355...  \n",
              "\n",
              "[5 rows x 29 columns]"
            ]
          },
          "metadata": {
            "tags": []
          },
          "execution_count": 6
        }
      ]
    },
    {
      "metadata": {
        "id": "C9u_vf-cZKcx",
        "colab_type": "text"
      },
      "cell_type": "markdown",
      "source": [
        "Thereby, using pandas we can extract information we need. Let us take a list of columns to know what we have :"
      ]
    },
    {
      "metadata": {
        "id": "xovWeA5e2f6O",
        "colab_type": "code",
        "outputId": "08e06f5c-4351-42c8-f53e-a313971c6b2b",
        "colab": {
          "base_uri": "https://localhost:8080/",
          "height": 170
        }
      },
      "cell_type": "code",
      "source": [
        "df.columns.values"
      ],
      "execution_count": 0,
      "outputs": [
        {
          "output_type": "execute_result",
          "data": {
            "text/plain": [
              "array(['contributors', 'coordinates', 'created_at', 'entities',\n",
              "       'extended_entities', 'favorite_count', 'favorited', 'geo', 'id',\n",
              "       'id_str', 'in_reply_to_screen_name', 'in_reply_to_status_id',\n",
              "       'in_reply_to_status_id_str', 'in_reply_to_user_id',\n",
              "       'in_reply_to_user_id_str', 'is_quote_status', 'lang', 'place',\n",
              "       'possibly_sensitive', 'quoted_status', 'quoted_status_id',\n",
              "       'quoted_status_id_str', 'retweet_count', 'retweeted',\n",
              "       'retweeted_status', 'source', 'text', 'truncated', 'user'],\n",
              "      dtype=object)"
            ]
          },
          "metadata": {
            "tags": []
          },
          "execution_count": 7
        }
      ]
    },
    {
      "metadata": {
        "id": "iDOLm6HbZRlA",
        "colab_type": "text"
      },
      "cell_type": "markdown",
      "source": [
        "Since we have ***29 columns*** and we only need ***5 columns*** as mentioned.\n",
        "\n",
        "1.   created_at : Date and time of tweet, already given by API.\n",
        "2.   favorite_count: number of favorites, already given by API.\n",
        "3.   retweet_count: number of retweet, already given by API.\n",
        "4.   text: The text of tweet, already given by API.\n",
        "5.   image_count: number of images present in tweet, no given by API; we have to determine it.\n",
        "\n",
        "We need to remove other part of dataframe\n"
      ]
    },
    {
      "metadata": {
        "id": "4j7XJ7KQ9eKO",
        "colab_type": "code",
        "colab": {}
      },
      "cell_type": "code",
      "source": [
        "# list of columns to remove\n",
        "columns = ['contributors', 'coordinates', 'entities', 'extended_entities', 'favorited', 'geo', 'id', 'id_str', 'in_reply_to_screen_name', 'in_reply_to_status_id', 'in_reply_to_status_id_str', 'in_reply_to_user_id', 'in_reply_to_user_id_str', 'is_quote_status', 'lang', 'place', 'possibly_sensitive', 'quoted_status', 'quoted_status_id', 'quoted_status_id_str', 'retweeted', 'retweeted_status', 'source', 'truncated', 'user']\n",
        "# deleting columns we don't need\n",
        "df.drop(columns, inplace=True, axis=1)"
      ],
      "execution_count": 0,
      "outputs": []
    },
    {
      "metadata": {
        "id": "HltGJdVzaH6l",
        "colab_type": "text"
      },
      "cell_type": "markdown",
      "source": [
        "Now, let us take a look at data to see what we have obtain so far"
      ]
    },
    {
      "metadata": {
        "id": "UYbfIBrv-mTC",
        "colab_type": "code",
        "outputId": "bf4e5ede-880f-4323-cf6b-537d60395d13",
        "colab": {
          "base_uri": "https://localhost:8080/",
          "height": 306
        }
      },
      "cell_type": "code",
      "source": [
        "df.head()"
      ],
      "execution_count": 0,
      "outputs": [
        {
          "output_type": "execute_result",
          "data": {
            "text/html": [
              "<div>\n",
              "<style scoped>\n",
              "    .dataframe tbody tr th:only-of-type {\n",
              "        vertical-align: middle;\n",
              "    }\n",
              "\n",
              "    .dataframe tbody tr th {\n",
              "        vertical-align: top;\n",
              "    }\n",
              "\n",
              "    .dataframe thead th {\n",
              "        text-align: right;\n",
              "    }\n",
              "</style>\n",
              "<table border=\"1\" class=\"dataframe\">\n",
              "  <thead>\n",
              "    <tr style=\"text-align: right;\">\n",
              "      <th></th>\n",
              "      <th>created_at</th>\n",
              "      <th>favorite_count</th>\n",
              "      <th>retweet_count</th>\n",
              "      <th>text</th>\n",
              "    </tr>\n",
              "  </thead>\n",
              "  <tbody>\n",
              "    <tr>\n",
              "      <th>0</th>\n",
              "      <td>2019-04-08 07:08:12</td>\n",
              "      <td>13</td>\n",
              "      <td>2</td>\n",
              "      <td>Many Congratulations to @midasIIITD student, S...</td>\n",
              "    </tr>\n",
              "    <tr>\n",
              "      <th>1</th>\n",
              "      <td>2019-04-08 03:27:42</td>\n",
              "      <td>4</td>\n",
              "      <td>0</td>\n",
              "      <td>@midasIIITD thanks all students who have appea...</td>\n",
              "    </tr>\n",
              "    <tr>\n",
              "      <th>2</th>\n",
              "      <td>2019-04-07 14:17:29</td>\n",
              "      <td>0</td>\n",
              "      <td>0</td>\n",
              "      <td>@himanchalchandr Meanwhile, complete CV/NLP ta...</td>\n",
              "    </tr>\n",
              "    <tr>\n",
              "      <th>3</th>\n",
              "      <td>2019-04-07 14:17:09</td>\n",
              "      <td>0</td>\n",
              "      <td>0</td>\n",
              "      <td>@sayangdipto123 Submit as per the guideline ag...</td>\n",
              "    </tr>\n",
              "    <tr>\n",
              "      <th>4</th>\n",
              "      <td>2019-04-07 11:43:24</td>\n",
              "      <td>1</td>\n",
              "      <td>1</td>\n",
              "      <td>We request all students whose interview are sc...</td>\n",
              "    </tr>\n",
              "  </tbody>\n",
              "</table>\n",
              "</div>"
            ],
            "text/plain": [
              "           created_at  favorite_count  retweet_count  \\\n",
              "0 2019-04-08 07:08:12              13              2   \n",
              "1 2019-04-08 03:27:42               4              0   \n",
              "2 2019-04-07 14:17:29               0              0   \n",
              "3 2019-04-07 14:17:09               0              0   \n",
              "4 2019-04-07 11:43:24               1              1   \n",
              "\n",
              "                                                text  \n",
              "0  Many Congratulations to @midasIIITD student, S...  \n",
              "1  @midasIIITD thanks all students who have appea...  \n",
              "2  @himanchalchandr Meanwhile, complete CV/NLP ta...  \n",
              "3  @sayangdipto123 Submit as per the guideline ag...  \n",
              "4  We request all students whose interview are sc...  "
            ]
          },
          "metadata": {
            "tags": []
          },
          "execution_count": 10
        }
      ]
    },
    {
      "metadata": {
        "id": "6bO4dmcmbfN1",
        "colab_type": "text"
      },
      "cell_type": "markdown",
      "source": [
        "We already have all the ***four columns*** needed but to display ***Number of images*** present in Tweet. We need to write a python script consist of ***extracting tweets from API call***."
      ]
    },
    {
      "metadata": {
        "id": "fIPI7YLaJiRr",
        "colab_type": "code",
        "colab": {}
      },
      "cell_type": "code",
      "source": [
        "# number of images present\n",
        "image_count = []\n",
        "\n",
        "# now, scan that through every tweet present in the JSONlines.\n",
        "for tweet in tweets:\n",
        "  for media in tweet.entities.get(\"media\",[{}]):\n",
        "    #checks if there is any media-entity\n",
        "    if media.get(\"type\",None) == \"photo\":\n",
        "      # if there is a image add 1\n",
        "      image_count.append('1')\n",
        "    else:\n",
        "      # if there is not a image present then value is None\n",
        "      image_count.append('None')"
      ],
      "execution_count": 0,
      "outputs": []
    },
    {
      "metadata": {
        "id": "i_Do8K22cds9",
        "colab_type": "text"
      },
      "cell_type": "markdown",
      "source": [
        "We have determine the Number of images present in tweet, now we add it to our dataframe to make it whole."
      ]
    },
    {
      "metadata": {
        "id": "aWIqYG6LJzjE",
        "colab_type": "code",
        "colab": {}
      },
      "cell_type": "code",
      "source": [
        "# load the package required: Numpy because \n",
        "import numpy as np\n",
        "new_col = np.asarray(image_count)\n",
        "df[\"image_count\"] = new_col"
      ],
      "execution_count": 0,
      "outputs": []
    },
    {
      "metadata": {
        "id": "MwAdlP1UK3ri",
        "colab_type": "code",
        "outputId": "8fad7433-d1de-4cdf-9a05-0567fd1bb952",
        "colab": {
          "base_uri": "https://localhost:8080/",
          "height": 428
        }
      },
      "cell_type": "code",
      "source": [
        "df.head()"
      ],
      "execution_count": 0,
      "outputs": [
        {
          "output_type": "execute_result",
          "data": {
            "text/html": [
              "<div>\n",
              "<style scoped>\n",
              "    .dataframe tbody tr th:only-of-type {\n",
              "        vertical-align: middle;\n",
              "    }\n",
              "\n",
              "    .dataframe tbody tr th {\n",
              "        vertical-align: top;\n",
              "    }\n",
              "\n",
              "    .dataframe thead th {\n",
              "        text-align: right;\n",
              "    }\n",
              "</style>\n",
              "<table border=\"1\" class=\"dataframe\">\n",
              "  <thead>\n",
              "    <tr style=\"text-align: right;\">\n",
              "      <th></th>\n",
              "      <th>created_at</th>\n",
              "      <th>favorite_count</th>\n",
              "      <th>retweet_count</th>\n",
              "      <th>text</th>\n",
              "      <th>image_count</th>\n",
              "    </tr>\n",
              "  </thead>\n",
              "  <tbody>\n",
              "    <tr>\n",
              "      <th>0</th>\n",
              "      <td>2019-04-08 07:08:12</td>\n",
              "      <td>13</td>\n",
              "      <td>2</td>\n",
              "      <td>Many Congratulations to @midasIIITD student, S...</td>\n",
              "      <td>None</td>\n",
              "    </tr>\n",
              "    <tr>\n",
              "      <th>1</th>\n",
              "      <td>2019-04-08 03:27:42</td>\n",
              "      <td>4</td>\n",
              "      <td>0</td>\n",
              "      <td>@midasIIITD thanks all students who have appea...</td>\n",
              "      <td>None</td>\n",
              "    </tr>\n",
              "    <tr>\n",
              "      <th>2</th>\n",
              "      <td>2019-04-07 14:17:29</td>\n",
              "      <td>0</td>\n",
              "      <td>0</td>\n",
              "      <td>@himanchalchandr Meanwhile, complete CV/NLP ta...</td>\n",
              "      <td>None</td>\n",
              "    </tr>\n",
              "    <tr>\n",
              "      <th>3</th>\n",
              "      <td>2019-04-07 14:17:09</td>\n",
              "      <td>0</td>\n",
              "      <td>0</td>\n",
              "      <td>@sayangdipto123 Submit as per the guideline ag...</td>\n",
              "      <td>None</td>\n",
              "    </tr>\n",
              "    <tr>\n",
              "      <th>4</th>\n",
              "      <td>2019-04-07 11:43:24</td>\n",
              "      <td>1</td>\n",
              "      <td>1</td>\n",
              "      <td>We request all students whose interview are sc...</td>\n",
              "      <td>None</td>\n",
              "    </tr>\n",
              "  </tbody>\n",
              "</table>\n",
              "</div>"
            ],
            "text/plain": [
              "           created_at  favorite_count  retweet_count  \\\n",
              "0 2019-04-08 07:08:12              13              2   \n",
              "1 2019-04-08 03:27:42               4              0   \n",
              "2 2019-04-07 14:17:29               0              0   \n",
              "3 2019-04-07 14:17:09               0              0   \n",
              "4 2019-04-07 11:43:24               1              1   \n",
              "\n",
              "                                                text image_count  \n",
              "0  Many Congratulations to @midasIIITD student, S...        None  \n",
              "1  @midasIIITD thanks all students who have appea...        None  \n",
              "2  @himanchalchandr Meanwhile, complete CV/NLP ta...        None  \n",
              "3  @sayangdipto123 Submit as per the guideline ag...        None  \n",
              "4  We request all students whose interview are sc...        None  "
            ]
          },
          "metadata": {
            "tags": []
          },
          "execution_count": 13
        }
      ]
    },
    {
      "metadata": {
        "id": "wywnQoGDiQxn",
        "colab_type": "text"
      },
      "cell_type": "markdown",
      "source": [
        "***Summary*** : The entire solution of python problem is done on jupyter notebook through google colaboratory. Please go to [this link](https://colab.research.google.com/drive/19v50ZRM7wwj1ikRAWPnYJN4tXRXtGIvf) to take a look at it. \n",
        "\n",
        "P.S I have implemented all the things that I have learned from MOOCs available at [CS224n](http://web.stanford.edu/class/cs224n/) and [mlcourse.ai](https://mlcourse.ai/). "
      ]
    }
  ]
}